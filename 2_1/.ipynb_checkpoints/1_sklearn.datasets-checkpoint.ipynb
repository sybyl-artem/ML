{
 "cells": [
  {
   "cell_type": "markdown",
   "metadata": {},
   "source": [
    "# Sklearn"
   ]
  },
  {
   "cell_type": "markdown",
   "metadata": {},
   "source": [
    "## sklearn.datasets"
   ]
  },
  {
   "cell_type": "markdown",
   "metadata": {},
   "source": [
    "документация: http://scikit-learn.org/stable/datasets/"
   ]
  },
  {
   "cell_type": "code",
   "execution_count": 1,
   "metadata": {},
   "outputs": [],
   "source": [
    "from sklearn import datasets"
   ]
  },
  {
   "cell_type": "code",
   "execution_count": 2,
   "metadata": {},
   "outputs": [
    {
     "name": "stdout",
     "output_type": "stream",
     "text": [
      "Populating the interactive namespace from numpy and matplotlib\n"
     ]
    }
   ],
   "source": [
    "%pylab inline"
   ]
  },
  {
   "cell_type": "markdown",
   "metadata": {},
   "source": [
    "### Генерация выборок"
   ]
  },
  {
   "cell_type": "markdown",
   "metadata": {},
   "source": [
    "**Способы генерации данных:** \n",
    "* make_classification\n",
    "* make_regression\n",
    "* make_circles\n",
    "* make_checkerboard\n",
    "* etc"
   ]
  },
  {
   "cell_type": "markdown",
   "metadata": {},
   "source": [
    "#### datasets.make_circles"
   ]
  },
  {
   "cell_type": "code",
   "execution_count": 4,
   "metadata": {},
   "outputs": [
    {
     "data": {
      "text/plain": [
       "(array([[-5.83174902e-01,  5.47637685e-01],\n",
       "        [-5.02324156e-02,  7.98421383e-01],\n",
       "        [-7.93691761e-01, -1.00266587e-01],\n",
       "        [-7.43821189e-01,  2.94499642e-01],\n",
       "        [ 5.09939192e-01, -6.16410594e-01],\n",
       "        [ 9.92114701e-01,  1.25333234e-01],\n",
       "        [ 8.09016994e-01, -5.87785252e-01],\n",
       "        [-9.29776486e-01,  3.68124553e-01],\n",
       "        [ 4.25779292e-01, -9.04827052e-01],\n",
       "        [ 9.29776486e-01, -3.68124553e-01],\n",
       "        [-6.27905195e-02, -9.98026728e-01],\n",
       "        [ 9.68583161e-01, -2.48689887e-01],\n",
       "        [ 6.47213595e-01,  4.70228202e-01],\n",
       "        [-6.47213595e-01,  4.70228202e-01],\n",
       "        [ 6.37423990e-01, -7.70513243e-01],\n",
       "        [-7.28968627e-01, -6.84547106e-01],\n",
       "        [-5.09939192e-01, -6.16410594e-01],\n",
       "        [ 7.28968627e-01, -6.84547106e-01],\n",
       "        [ 6.27905195e-02, -9.98026728e-01],\n",
       "        [ 9.68583161e-01,  2.48689887e-01],\n",
       "        [-7.93691761e-01,  1.00266587e-01],\n",
       "        [ 7.01045344e-01, -3.85402939e-01],\n",
       "        [-6.37423990e-01, -7.70513243e-01],\n",
       "        [ 7.93691761e-01,  1.00266587e-01],\n",
       "        [-5.02324156e-02, -7.98421383e-01],\n",
       "        [ 4.28661436e-01, -6.75462340e-01],\n",
       "        [-3.09016994e-01, -9.51056516e-01],\n",
       "        [-9.92114701e-01, -1.25333234e-01],\n",
       "        [-7.43821189e-01, -2.94499642e-01],\n",
       "        [-7.28968627e-01,  6.84547106e-01],\n",
       "        [-6.37423990e-01,  7.70513243e-01],\n",
       "        [ 6.37423990e-01,  7.70513243e-01],\n",
       "        [ 7.43821189e-01, -2.94499642e-01],\n",
       "        [-8.09016994e-01, -5.87785252e-01],\n",
       "        [ 5.09939192e-01,  6.16410594e-01],\n",
       "        [-7.74866529e-01,  1.98951910e-01],\n",
       "        [-8.76306680e-01, -4.81753674e-01],\n",
       "        [ 3.09016994e-01, -9.51056516e-01],\n",
       "        [ 7.43821189e-01,  2.94499642e-01],\n",
       "        [-7.74866529e-01, -1.98951910e-01],\n",
       "        [ 8.76306680e-01, -4.81753674e-01],\n",
       "        [ 3.09016994e-01,  9.51056516e-01],\n",
       "        [ 1.87381315e-01, -9.82287251e-01],\n",
       "        [ 7.74866529e-01, -1.98951910e-01],\n",
       "        [-9.68583161e-01,  2.48689887e-01],\n",
       "        [ 5.02324156e-02, -7.98421383e-01],\n",
       "        [-3.40623433e-01,  7.23861642e-01],\n",
       "        [ 9.92114701e-01, -1.25333234e-01],\n",
       "        [-1.00000000e+00, -3.21624530e-16],\n",
       "        [ 2.47213595e-01,  7.60845213e-01],\n",
       "        [ 7.93691761e-01, -1.00266587e-01],\n",
       "        [-9.92114701e-01,  1.25333234e-01],\n",
       "        [ 2.47213595e-01, -7.60845213e-01],\n",
       "        [-1.87381315e-01, -9.82287251e-01],\n",
       "        [-5.35826795e-01, -8.44327926e-01],\n",
       "        [-2.47213595e-01, -7.60845213e-01],\n",
       "        [-4.25779292e-01, -9.04827052e-01],\n",
       "        [-4.25779292e-01,  9.04827052e-01],\n",
       "        [ 9.29776486e-01,  3.68124553e-01],\n",
       "        [ 5.02324156e-02,  7.98421383e-01],\n",
       "        [-5.83174902e-01, -5.47637685e-01],\n",
       "        [ 8.00000000e-01,  0.00000000e+00],\n",
       "        [ 1.49905052e-01, -7.85829801e-01],\n",
       "        [ 7.28968627e-01,  6.84547106e-01],\n",
       "        [ 3.40623433e-01, -7.23861642e-01],\n",
       "        [ 7.01045344e-01,  3.85402939e-01],\n",
       "        [ 5.83174902e-01,  5.47637685e-01],\n",
       "        [ 5.35826795e-01,  8.44327926e-01],\n",
       "        [-3.40623433e-01, -7.23861642e-01],\n",
       "        [-4.28661436e-01, -6.75462340e-01],\n",
       "        [-5.09939192e-01,  6.16410594e-01],\n",
       "        [-4.28661436e-01,  6.75462340e-01],\n",
       "        [-6.47213595e-01, -4.70228202e-01],\n",
       "        [-5.35826795e-01,  8.44327926e-01],\n",
       "        [ 1.49905052e-01,  7.85829801e-01],\n",
       "        [ 8.76306680e-01,  4.81753674e-01],\n",
       "        [ 5.35826795e-01, -8.44327926e-01],\n",
       "        [ 5.83174902e-01, -5.47637685e-01],\n",
       "        [-2.47213595e-01,  7.60845213e-01],\n",
       "        [ 1.87381315e-01,  9.82287251e-01],\n",
       "        [-3.09016994e-01,  9.51056516e-01],\n",
       "        [ 4.25779292e-01,  9.04827052e-01],\n",
       "        [-9.68583161e-01, -2.48689887e-01],\n",
       "        [-7.01045344e-01,  3.85402939e-01],\n",
       "        [ 3.40623433e-01,  7.23861642e-01],\n",
       "        [-1.49905052e-01,  7.85829801e-01],\n",
       "        [-8.09016994e-01,  5.87785252e-01],\n",
       "        [-1.87381315e-01,  9.82287251e-01],\n",
       "        [-1.49905052e-01, -7.85829801e-01],\n",
       "        [ 1.00000000e+00,  0.00000000e+00],\n",
       "        [ 4.28661436e-01,  6.75462340e-01],\n",
       "        [-6.27905195e-02,  9.98026728e-01],\n",
       "        [-9.29776486e-01, -3.68124553e-01],\n",
       "        [-8.76306680e-01,  4.81753674e-01],\n",
       "        [ 6.47213595e-01, -4.70228202e-01],\n",
       "        [ 7.74866529e-01,  1.98951910e-01],\n",
       "        [-7.01045344e-01, -3.85402939e-01],\n",
       "        [-8.00000000e-01, -2.57299624e-16],\n",
       "        [ 6.27905195e-02,  9.98026728e-01],\n",
       "        [ 8.09016994e-01,  5.87785252e-01]]),\n",
       " array([1, 1, 1, 1, 1, 0, 0, 0, 0, 0, 0, 0, 1, 1, 0, 0, 1, 0, 0, 0, 1, 1,\n",
       "        0, 1, 1, 1, 0, 0, 1, 0, 0, 0, 1, 0, 1, 1, 0, 0, 1, 1, 0, 0, 0, 1,\n",
       "        0, 1, 1, 0, 0, 1, 1, 0, 1, 0, 0, 1, 0, 0, 0, 1, 1, 1, 1, 0, 1, 1,\n",
       "        1, 0, 1, 1, 1, 1, 1, 0, 1, 0, 0, 1, 1, 0, 0, 0, 0, 1, 1, 1, 0, 0,\n",
       "        1, 0, 1, 0, 0, 0, 1, 1, 1, 1, 0, 0], dtype=int64))"
      ]
     },
     "execution_count": 4,
     "metadata": {},
     "output_type": "execute_result"
    }
   ],
   "source": [
    "circles = datasets.make_circles()\n",
    "circles"
   ]
  },
  {
   "cell_type": "code",
   "execution_count": 5,
   "metadata": {},
   "outputs": [
    {
     "name": "stdout",
     "output_type": "stream",
     "text": [
      "features: [[-0.5831749   0.54763768]\n",
      " [-0.05023242  0.79842138]\n",
      " [-0.79369176 -0.10026659]\n",
      " [-0.74382119  0.29449964]\n",
      " [ 0.50993919 -0.61641059]\n",
      " [ 0.9921147   0.12533323]\n",
      " [ 0.80901699 -0.58778525]\n",
      " [-0.92977649  0.36812455]\n",
      " [ 0.42577929 -0.90482705]\n",
      " [ 0.92977649 -0.36812455]]\n",
      "target: [1 1 1 1 1 0 0 0 0 0]\n"
     ]
    }
   ],
   "source": [
    "print \"features: {}\".format(circles[0][:10])\n",
    "print \"target: {}\".format(circles[1][:10])"
   ]
  },
  {
   "cell_type": "code",
   "execution_count": 6,
   "metadata": {},
   "outputs": [],
   "source": [
    "from matplotlib.colors import ListedColormap"
   ]
  },
  {
   "cell_type": "code",
   "execution_count": 7,
   "metadata": {},
   "outputs": [
    {
     "data": {
      "text/plain": [
       "<matplotlib.collections.PathCollection at 0xca9fa90>"
      ]
     },
     "execution_count": 7,
     "metadata": {},
     "output_type": "execute_result"
    },
    {
     "data": {
      "image/png": "[encoded data removed]",
      "text/plain": [
       "<Figure size 576x576 with 1 Axes>"
      ]
     },
     "metadata": {
      "needs_background": "light"
     },
     "output_type": "display_data"
    }
   ],
   "source": [
    "colors = ListedColormap(['red', 'yellow'])\n",
    "\n",
    "pyplot.figure(figsize(8, 8))\n",
    "pyplot.scatter(map(lambda x: x[0], circles[0]), map(lambda x: x[1], circles[0]), c = circles[1], cmap = colors)"
   ]
  },
  {
   "cell_type": "code",
   "execution_count": null,
   "metadata": {
    "collapsed": true
   },
   "outputs": [],
   "source": [
    "def plot_2d_dataset(data, colors):\n",
    "    pyplot.figure(figsize(8, 8))\n",
    "    pyplot.scatter(map(lambda x: x[0], data[0]), map(lambda x: x[1], data[0]), c = data[1], cmap = colors)"
   ]
  },
  {
   "cell_type": "code",
   "execution_count": null,
   "metadata": {
    "collapsed": true
   },
   "outputs": [],
   "source": [
    "noisy_circles = datasets.make_circles(noise = 0.15)"
   ]
  },
  {
   "cell_type": "code",
   "execution_count": null,
   "metadata": {},
   "outputs": [],
   "source": [
    "plot_2d_dataset(noisy_circles, colors)"
   ]
  },
  {
   "cell_type": "markdown",
   "metadata": {},
   "source": [
    "#### datasets.make_classification"
   ]
  },
  {
   "cell_type": "code",
   "execution_count": null,
   "metadata": {},
   "outputs": [],
   "source": [
    "simple_classification_problem = datasets.make_classification(n_features = 2, n_informative = 1, \n",
    "                                                            n_redundant = 1, n_clusters_per_class = 1,\n",
    "                                                            random_state = 1 )"
   ]
  },
  {
   "cell_type": "code",
   "execution_count": null,
   "metadata": {},
   "outputs": [],
   "source": [
    "plot_2d_dataset(simple_classification_problem, colors)"
   ]
  },
  {
   "cell_type": "code",
   "execution_count": null,
   "metadata": {},
   "outputs": [],
   "source": [
    "classification_problem = datasets.make_classification(n_features = 2, n_informative = 2, n_classes = 4, \n",
    "                                                      n_redundant = 0, n_clusters_per_class = 1, random_state = 1)\n",
    "\n",
    "colors = ListedColormap(['red', 'blue', 'green', 'yellow'])"
   ]
  },
  {
   "cell_type": "code",
   "execution_count": null,
   "metadata": {},
   "outputs": [],
   "source": [
    "plot_2d_dataset(classification_problem, colors)"
   ]
  },
  {
   "cell_type": "markdown",
   "metadata": {},
   "source": [
    "### \"Игрушечные\" наборы данных"
   ]
  },
  {
   "cell_type": "markdown",
   "metadata": {},
   "source": [
    "**Наборы данных:** \n",
    "* load_iris \n",
    "* load_boston\n",
    "* load_diabetes\n",
    "* load_digits\n",
    "* load_linnerud\n",
    "* etc"
   ]
  },
  {
   "cell_type": "markdown",
   "metadata": {},
   "source": [
    "#### datasets.load_iris"
   ]
  },
  {
   "cell_type": "code",
   "execution_count": null,
   "metadata": {},
   "outputs": [],
   "source": [
    "iris = datasets.load_iris()"
   ]
  },
  {
   "cell_type": "code",
   "execution_count": null,
   "metadata": {},
   "outputs": [],
   "source": [
    "iris"
   ]
  },
  {
   "cell_type": "code",
   "execution_count": null,
   "metadata": {},
   "outputs": [],
   "source": [
    "iris.keys()"
   ]
  },
  {
   "cell_type": "code",
   "execution_count": null,
   "metadata": {
    "scrolled": true
   },
   "outputs": [],
   "source": [
    "print iris.DESCR"
   ]
  },
  {
   "cell_type": "code",
   "execution_count": null,
   "metadata": {},
   "outputs": [],
   "source": [
    "print \"feature names: {}\".format(iris.feature_names)\n",
    "print \"target names: {names}\".format(names = iris.target_names)"
   ]
  },
  {
   "cell_type": "code",
   "execution_count": null,
   "metadata": {},
   "outputs": [],
   "source": [
    "iris.data[:10]"
   ]
  },
  {
   "cell_type": "code",
   "execution_count": null,
   "metadata": {},
   "outputs": [],
   "source": [
    "iris.target"
   ]
  },
  {
   "cell_type": "markdown",
   "metadata": {},
   "source": [
    "### Визуализация выбокри"
   ]
  },
  {
   "cell_type": "code",
   "execution_count": null,
   "metadata": {
    "collapsed": true
   },
   "outputs": [],
   "source": [
    "from pandas import DataFrame"
   ]
  },
  {
   "cell_type": "code",
   "execution_count": null,
   "metadata": {},
   "outputs": [],
   "source": [
    "iris_frame = DataFrame(iris.data)\n",
    "iris_frame.columns = iris.feature_names\n",
    "iris_frame['target'] = iris.target"
   ]
  },
  {
   "cell_type": "code",
   "execution_count": null,
   "metadata": {},
   "outputs": [],
   "source": [
    "iris_frame.head()"
   ]
  },
  {
   "cell_type": "code",
   "execution_count": null,
   "metadata": {},
   "outputs": [],
   "source": [
    "iris_frame.target = iris_frame.target.apply(lambda x : iris.target_names[x])"
   ]
  },
  {
   "cell_type": "code",
   "execution_count": null,
   "metadata": {},
   "outputs": [],
   "source": [
    "iris_frame.head()"
   ]
  },
  {
   "cell_type": "code",
   "execution_count": null,
   "metadata": {},
   "outputs": [],
   "source": [
    "iris_frame[iris_frame.target == 'setosa'].hist('sepal length (cm)')"
   ]
  },
  {
   "cell_type": "code",
   "execution_count": null,
   "metadata": {},
   "outputs": [],
   "source": [
    "pyplot.figure(figsize(20, 24))\n",
    "\n",
    "plot_number = 0\n",
    "for feature_name in iris['feature_names']:\n",
    "    for target_name in iris['target_names']:\n",
    "        plot_number += 1\n",
    "        pyplot.subplot(4, 3, plot_number)\n",
    "        pyplot.hist(iris_frame[iris_frame.target == target_name][feature_name])\n",
    "        pyplot.title(target_name)\n",
    "        pyplot.xlabel('cm')\n",
    "        pyplot.ylabel(feature_name[:-4])"
   ]
  },
  {
   "cell_type": "markdown",
   "metadata": {},
   "source": [
    "### Бонус: библиотека seaborn"
   ]
  },
  {
   "cell_type": "code",
   "execution_count": null,
   "metadata": {},
   "outputs": [],
   "source": [
    "import seaborn as sns"
   ]
  },
  {
   "cell_type": "code",
   "execution_count": null,
   "metadata": {},
   "outputs": [],
   "source": [
    "sns.pairplot(iris_frame, hue = 'target')"
   ]
  },
  {
   "cell_type": "code",
   "execution_count": null,
   "metadata": {
    "collapsed": true
   },
   "outputs": [],
   "source": [
    "?sns.set()"
   ]
  },
  {
   "cell_type": "code",
   "execution_count": null,
   "metadata": {},
   "outputs": [],
   "source": [
    "sns.set(font_scale = 1.3)\n",
    "data = sns.load_dataset(\"iris\")\n",
    "sns.pairplot(data, hue = \"species\")"
   ]
  },
  {
   "cell_type": "markdown",
   "metadata": {},
   "source": [
    "#### **Если Вас заинтересовала библиотека seaborn:**\n",
    "* установка: https://stanford.edu/~mwaskom/software/seaborn/installing.html\n",
    "* установка c помощью анаконды: https://anaconda.org/anaconda/seaborn\n",
    "* руководство: https://stanford.edu/~mwaskom/software/seaborn/tutorial.html\n",
    "* примеры: https://stanford.edu/~mwaskom/software/seaborn/examples/"
   ]
  }
 ],
 "metadata": {
  "kernelspec": {
   "display_name": "Python 3",
   "language": "python",
   "name": "python3"
  },
  "language_info": {
   "codemirror_mode": {
    "name": "ipython",
    "version": 3
   },
   "file_extension": ".py",
   "mimetype": "text/x-python",
   "name": "python",
   "nbconvert_exporter": "python",
   "pygments_lexer": "ipython3",
   "version": "3.7.6"
  }
 },
 "nbformat": 4,
 "nbformat_minor": 1
}
