{
 "cells": [
  {
   "cell_type": "code",
   "execution_count": 1,
   "metadata": {},
   "outputs": [],
   "source": [
    "# импорт нужных библиотек\n",
    "import numpy as np\n",
    "import pandas as pd\n",
    "import matplotlib.pyplot as plt\n",
    "from scipy import stats\n",
    "%matplotlib inline\n",
    "from statsmodels.stats.proportion import proportion_confint"
   ]
  },
  {
   "cell_type": "code",
   "execution_count": 24,
   "metadata": {},
   "outputs": [
    {
     "data": {
      "text/html": [
       "<div>\n",
       "<style scoped>\n",
       "    .dataframe tbody tr th:only-of-type {\n",
       "        vertical-align: middle;\n",
       "    }\n",
       "\n",
       "    .dataframe tbody tr th {\n",
       "        vertical-align: top;\n",
       "    }\n",
       "\n",
       "    .dataframe thead th {\n",
       "        text-align: right;\n",
       "    }\n",
       "</style>\n",
       "<table border=\"1\" class=\"dataframe\">\n",
       "  <thead>\n",
       "    <tr style=\"text-align: right;\">\n",
       "      <th></th>\n",
       "      <th>ID</th>\n",
       "      <th>LIMIT_BAL</th>\n",
       "      <th>SEX</th>\n",
       "      <th>EDUCATION</th>\n",
       "      <th>MARRIAGE</th>\n",
       "      <th>AGE</th>\n",
       "      <th>PAY_0</th>\n",
       "      <th>PAY_2</th>\n",
       "      <th>PAY_3</th>\n",
       "      <th>PAY_4</th>\n",
       "      <th>...</th>\n",
       "      <th>BILL_AMT4</th>\n",
       "      <th>BILL_AMT5</th>\n",
       "      <th>BILL_AMT6</th>\n",
       "      <th>PAY_AMT1</th>\n",
       "      <th>PAY_AMT2</th>\n",
       "      <th>PAY_AMT3</th>\n",
       "      <th>PAY_AMT4</th>\n",
       "      <th>PAY_AMT5</th>\n",
       "      <th>PAY_AMT6</th>\n",
       "      <th>default</th>\n",
       "    </tr>\n",
       "  </thead>\n",
       "  <tbody>\n",
       "    <tr>\n",
       "      <th>0</th>\n",
       "      <td>1</td>\n",
       "      <td>20000</td>\n",
       "      <td>2</td>\n",
       "      <td>2</td>\n",
       "      <td>1</td>\n",
       "      <td>24</td>\n",
       "      <td>2</td>\n",
       "      <td>2</td>\n",
       "      <td>0</td>\n",
       "      <td>0</td>\n",
       "      <td>...</td>\n",
       "      <td>0</td>\n",
       "      <td>0</td>\n",
       "      <td>0</td>\n",
       "      <td>0</td>\n",
       "      <td>689</td>\n",
       "      <td>0</td>\n",
       "      <td>0</td>\n",
       "      <td>0</td>\n",
       "      <td>0</td>\n",
       "      <td>1</td>\n",
       "    </tr>\n",
       "    <tr>\n",
       "      <th>1</th>\n",
       "      <td>2</td>\n",
       "      <td>120000</td>\n",
       "      <td>2</td>\n",
       "      <td>2</td>\n",
       "      <td>2</td>\n",
       "      <td>26</td>\n",
       "      <td>0</td>\n",
       "      <td>2</td>\n",
       "      <td>0</td>\n",
       "      <td>0</td>\n",
       "      <td>...</td>\n",
       "      <td>3272</td>\n",
       "      <td>3455</td>\n",
       "      <td>3261</td>\n",
       "      <td>0</td>\n",
       "      <td>1000</td>\n",
       "      <td>1000</td>\n",
       "      <td>1000</td>\n",
       "      <td>0</td>\n",
       "      <td>2000</td>\n",
       "      <td>1</td>\n",
       "    </tr>\n",
       "    <tr>\n",
       "      <th>2</th>\n",
       "      <td>3</td>\n",
       "      <td>90000</td>\n",
       "      <td>2</td>\n",
       "      <td>2</td>\n",
       "      <td>2</td>\n",
       "      <td>34</td>\n",
       "      <td>0</td>\n",
       "      <td>0</td>\n",
       "      <td>0</td>\n",
       "      <td>0</td>\n",
       "      <td>...</td>\n",
       "      <td>14331</td>\n",
       "      <td>14948</td>\n",
       "      <td>15549</td>\n",
       "      <td>1518</td>\n",
       "      <td>1500</td>\n",
       "      <td>1000</td>\n",
       "      <td>1000</td>\n",
       "      <td>1000</td>\n",
       "      <td>5000</td>\n",
       "      <td>0</td>\n",
       "    </tr>\n",
       "    <tr>\n",
       "      <th>3</th>\n",
       "      <td>4</td>\n",
       "      <td>50000</td>\n",
       "      <td>2</td>\n",
       "      <td>2</td>\n",
       "      <td>1</td>\n",
       "      <td>37</td>\n",
       "      <td>0</td>\n",
       "      <td>0</td>\n",
       "      <td>0</td>\n",
       "      <td>0</td>\n",
       "      <td>...</td>\n",
       "      <td>28314</td>\n",
       "      <td>28959</td>\n",
       "      <td>29547</td>\n",
       "      <td>2000</td>\n",
       "      <td>2019</td>\n",
       "      <td>1200</td>\n",
       "      <td>1100</td>\n",
       "      <td>1069</td>\n",
       "      <td>1000</td>\n",
       "      <td>0</td>\n",
       "    </tr>\n",
       "    <tr>\n",
       "      <th>4</th>\n",
       "      <td>5</td>\n",
       "      <td>50000</td>\n",
       "      <td>1</td>\n",
       "      <td>2</td>\n",
       "      <td>1</td>\n",
       "      <td>57</td>\n",
       "      <td>0</td>\n",
       "      <td>0</td>\n",
       "      <td>0</td>\n",
       "      <td>0</td>\n",
       "      <td>...</td>\n",
       "      <td>20940</td>\n",
       "      <td>19146</td>\n",
       "      <td>19131</td>\n",
       "      <td>2000</td>\n",
       "      <td>36681</td>\n",
       "      <td>10000</td>\n",
       "      <td>9000</td>\n",
       "      <td>689</td>\n",
       "      <td>679</td>\n",
       "      <td>0</td>\n",
       "    </tr>\n",
       "  </tbody>\n",
       "</table>\n",
       "<p>5 rows × 25 columns</p>\n",
       "</div>"
      ],
      "text/plain": [
       "   ID  LIMIT_BAL  SEX  EDUCATION  MARRIAGE  AGE  PAY_0  PAY_2  PAY_3  PAY_4  \\\n",
       "0   1      20000    2          2         1   24      2      2      0      0   \n",
       "1   2     120000    2          2         2   26      0      2      0      0   \n",
       "2   3      90000    2          2         2   34      0      0      0      0   \n",
       "3   4      50000    2          2         1   37      0      0      0      0   \n",
       "4   5      50000    1          2         1   57      0      0      0      0   \n",
       "\n",
       "   ...  BILL_AMT4  BILL_AMT5  BILL_AMT6  PAY_AMT1  PAY_AMT2  PAY_AMT3  \\\n",
       "0  ...          0          0          0         0       689         0   \n",
       "1  ...       3272       3455       3261         0      1000      1000   \n",
       "2  ...      14331      14948      15549      1518      1500      1000   \n",
       "3  ...      28314      28959      29547      2000      2019      1200   \n",
       "4  ...      20940      19146      19131      2000     36681     10000   \n",
       "\n",
       "   PAY_AMT4  PAY_AMT5  PAY_AMT6  default  \n",
       "0         0         0         0        1  \n",
       "1      1000         0      2000        1  \n",
       "2      1000      1000      5000        0  \n",
       "3      1100      1069      1000        0  \n",
       "4      9000       689       679        0  \n",
       "\n",
       "[5 rows x 25 columns]"
      ]
     },
     "execution_count": 24,
     "metadata": {},
     "output_type": "execute_result"
    }
   ],
   "source": [
    "#загрузка данных из файла\n",
    "data = pd.read_csv(\"credit_card_default_analysis.csv\")\n",
    "data.head()"
   ]
  },
  {
   "cell_type": "markdown",
   "metadata": {},
   "source": [
    "# Задание 1. Размер кредитного лимита "
   ]
  },
  {
   "cell_type": "code",
   "execution_count": 3,
   "metadata": {},
   "outputs": [
    {
     "data": {
      "text/plain": [
       "<matplotlib.legend.Legend at 0x11cca828>"
      ]
     },
     "execution_count": 3,
     "metadata": {},
     "output_type": "execute_result"
    },
    {
     "data": {
      "image/png": "[encoded data removed]",
      "text/plain": [
       "<Figure size 504x360 with 1 Axes>"
      ]
     },
     "metadata": {
      "needs_background": "light"
     },
     "output_type": "display_data"
    }
   ],
   "source": [
    "plt.figure(1, figsize=(7,5))\n",
    "\n",
    "plt.title(\"Credit_limit, default = 0|1 \")\n",
    "plt.hist(data.LIMIT_BAL[data.default == 0], label = \"Default = 0\", bins = 12)\n",
    "plt.hist(data.LIMIT_BAL[data.default == 1], label = \"Default = 1\", bins = 12)\n",
    "plt.ylabel('Amount');\n",
    "plt.legend()"
   ]
  },
  {
   "cell_type": "markdown",
   "metadata": {},
   "source": [
    "На графике видно, что распределение сумм невозврата кредита скошено влево. То есть, большинство невозвращенных кредитов - на маленькую сумму. Возможно, это связано с тем, что большинство кредитов, выданных банком - на маленькие суммы."
   ]
  },
  {
   "cell_type": "code",
   "execution_count": 4,
   "metadata": {},
   "outputs": [
    {
     "name": "stdout",
     "output_type": "stream",
     "text": [
      "23364 6636\n"
     ]
    }
   ],
   "source": [
    "# создаем две переменные\n",
    "limit_bal_0 = data.LIMIT_BAL[data.default == 0]\n",
    "limit_bal_1 = data.LIMIT_BAL[data.default == 1]\n",
    "print len(limit_bal_0), len(limit_bal_1)"
   ]
  },
  {
   "cell_type": "code",
   "execution_count": 5,
   "metadata": {},
   "outputs": [
    {
     "name": "stdout",
     "output_type": "stream",
     "text": [
      "150000.0 90000.0\n"
     ]
    }
   ],
   "source": [
    "# считаем медианы\n",
    "median_0 = limit_bal_0.median()\n",
    "median_1 = limit_bal_1.median()\n",
    "print median_0, median_1"
   ]
  },
  {
   "cell_type": "markdown",
   "metadata": {},
   "source": [
    "## Проверка гипотезы о равенстве медианных значений кредитного лимита с помощью подходящей интервальной оценки:\n",
    "\n",
    "Н0 - медианы равны; \n",
    "\n",
    "Н1 - медианы не равны"
   ]
  },
  {
   "cell_type": "code",
   "execution_count": 6,
   "metadata": {},
   "outputs": [],
   "source": [
    "def zconfint_binom(n, p, alpha = 0.05):\n",
    "    q = 1 - p\n",
    "    m = n * p\n",
    "    var = n * p * q\n",
    "    z_stat = stats.norm.ppf(1 - alpha / 2)\n",
    "    l_bound = int(round(m - z_stat * np.sqrt (var)))\n",
    "    u_bound = int(round(m + z_stat * np.sqrt(var)))\n",
    "    return (l_bound, u_bound)\n"
   ]
  },
  {
   "cell_type": "code",
   "execution_count": 7,
   "metadata": {},
   "outputs": [
    {
     "name": "stdout",
     "output_type": "stream",
     "text": [
      "Interval median LIMIT_BAL, where default = 0: [150000, 150000]\n",
      "Interval median LIMIT_BAL, where default = 1: [80000, 90000]\n"
     ]
    }
   ],
   "source": [
    "lim_bal_0_s = np.sort(limit_bal_0.values)\n",
    "lim_bal_1_s = np.sort(limit_bal_1.values)\n",
    "\n",
    "l_ind_0, u_ind_0 = zconfint_binom(len(lim_bal_0_s), 0.5)\n",
    "l_ind_1, u_ind_1 = zconfint_binom(len(lim_bal_1_s), 0.5)\n",
    "\n",
    "print (\"Interval median LIMIT_BAL, where default = 0: [%d, %d]\" % (lim_bal_0_s[l_ind_0], lim_bal_0_s[u_ind_0]))\n",
    "print (\"Interval median LIMIT_BAL, where default = 1: [%d, %d]\" % (lim_bal_1_s[l_ind_1], lim_bal_1_s[u_ind_1]))"
   ]
  },
  {
   "cell_type": "code",
   "execution_count": null,
   "metadata": {},
   "outputs": [],
   "source": []
  },
  {
   "cell_type": "code",
   "execution_count": 8,
   "metadata": {},
   "outputs": [],
   "source": [
    "def get_bootstrap(data, n_samples):\n",
    "    incides = np.random.randint(0, len(data), (n_samples, len(data)))\n",
    "    samples = data[incides]\n",
    "    return samples\n",
    "\n",
    "def stat_intervals(stat, alpha):\n",
    "    boundaries = np.percentile(stat, [100 * alpha / 2., 100 * (1-alpha/2.)])\n",
    "    return boundaries"
   ]
  },
  {
   "cell_type": "code",
   "execution_count": 9,
   "metadata": {},
   "outputs": [
    {
     "name": "stdout",
     "output_type": "stream",
     "text": [
      "Interval median LIMIT_BAL, where default = 0: [150000, 150000]\n",
      "Interval median LIMIT_BAL, where default = 1: [80000, 90000]\n"
     ]
    }
   ],
   "source": [
    "np.random.seed(0)\n",
    "\n",
    "lim_bal_0_strap_med = map(np.median, get_bootstrap(limit_bal_0.values, 100))\n",
    "lim_bal_1_strap_med = map(np.median, get_bootstrap(limit_bal_1.values, 100))\n",
    "\n",
    "bound_0 = stat_intervals(lim_bal_0_strap_med, 0.05)\n",
    "bound_1 = stat_intervals(lim_bal_1_strap_med, 0.05)\n",
    "\n",
    "print(\"Interval median LIMIT_BAL, where default = 0: [%d, %d]\" % (bound_0[0], bound_0[1]))\n",
    "print(\"Interval median LIMIT_BAL, where default = 1: [%d, %d]\" % (bound_1[0], bound_1[1]))"
   ]
  },
  {
   "cell_type": "markdown",
   "metadata": {},
   "source": [
    "Как видим, интервалы разные и не пересекаются. Соответственно, медианы не совпадают"
   ]
  },
  {
   "cell_type": "markdown",
   "metadata": {},
   "source": [
    "## Проверьте гипотезу о равенстве распределений с помощью одного из подходящих непараметрических критериев проверки равенства средних."
   ]
  },
  {
   "cell_type": "markdown",
   "metadata": {},
   "source": [
    "### Сформулирую гипотезы для перестановочного критерия:\n",
    "\n",
    "H0: распределения выборок равны\n",
    "\n",
    "H1: распределения выборок значимо отличаются"
   ]
  },
  {
   "cell_type": "code",
   "execution_count": 10,
   "metadata": {},
   "outputs": [],
   "source": [
    "def permutation_t_stat_ind(sample1, sample2):\n",
    "    return np.mean(sample1) - np.mean(sample2)\n",
    "\n",
    "def get_random_combinations(n1, n2, max_combinations):\n",
    "    index = range(n1 + n2)\n",
    "    indices = set([tuple(index)])\n",
    "    for i in range(max_combinations - 1):\n",
    "        np.random.shuffle(index)\n",
    "        indices.add(tuple(index))\n",
    "    return [(index[:n1], index[n1:]) for index in indices]\n",
    "\n",
    "def permutation_zero_dist_ind(sample1, sample2, max_combinations = None):\n",
    "    joined_sample = np.hstack((sample1, sample2))\n",
    "    n1 = len(sample1)\n",
    "    n = len(joined_sample)\n",
    "    \n",
    "    if max_combinations:\n",
    "        indices = get_random_combinations(n1, len(sample2), max_combinations)\n",
    "    else:\n",
    "        indices = [(list(index), filter(lambda i: i not in index, range(n))) \\\n",
    "                    for index in itertools.combinations(range(n), n1)]\n",
    "    \n",
    "    distr = [joined_sample[list(i[0])].mean() - joined_sample[list(i[1])].mean() \\\n",
    "             for i in indices]\n",
    "    return distr\n",
    "\n",
    "def permutation_test(sample, mean, max_permutations = None, alternative = 'two-sided'):\n",
    "    if alternative not in ('two-sided', 'less', 'greater'):\n",
    "        raise ValueError(\"alternative not recognized\\n\"\n",
    "                         \"should be 'two-sided', 'less' or 'greater'\")\n",
    "    \n",
    "    t_stat = permutation_t_stat_ind(sample, mean)\n",
    "    \n",
    "    zero_distr = permutation_zero_dist_ind(sample, mean, max_permutations)\n",
    "    \n",
    "    if alternative == 'two-sided':\n",
    "        return sum([1. if abs(x) >= abs(t_stat) else 0. for x in zero_distr]) / len(zero_distr)\n",
    "    \n",
    "    if alternative == 'less':\n",
    "        return sum([1. if x <= t_stat else 0. for x in zero_distr]) / len(zero_distr)\n",
    "\n",
    "    if alternative == 'greater':\n",
    "        return sum([1. if x >= t_stat else 0. for x in zero_distr]) / len(zero_distr)"
   ]
  },
  {
   "cell_type": "code",
   "execution_count": 11,
   "metadata": {},
   "outputs": [
    {
     "name": "stdout",
     "output_type": "stream",
     "text": [
      "p-value: 0.001000\n"
     ]
    }
   ],
   "source": [
    "print (\"p-value: %f\"% permutation_test(limit_bal_0, limit_bal_1, max_permutations = 1000))"
   ]
  },
  {
   "cell_type": "markdown",
   "metadata": {},
   "source": [
    "Нулевая гипотеза отклоняется на уровне значимости 0.05 (с вероятностью 95% процентов), поскольку p-value: 0.001. Значимы ли результаты с практической точки зрения? Однозначно, потому что и среднее медиан так же значимо отличается. "
   ]
  },
  {
   "cell_type": "markdown",
   "metadata": {},
   "source": [
    "# Задание 2. Пол (SEX): "
   ]
  },
  {
   "cell_type": "code",
   "execution_count": 12,
   "metadata": {},
   "outputs": [
    {
     "data": {
      "text/plain": [
       "<matplotlib.legend.Legend at 0x32738f60>"
      ]
     },
     "execution_count": 12,
     "metadata": {},
     "output_type": "execute_result"
    },
    {
     "data": {
      "image/png": "[encoded data removed]",
      "text/plain": [
       "<Figure size 504x360 with 1 Axes>"
      ]
     },
     "metadata": {
      "needs_background": "light"
     },
     "output_type": "display_data"
    }
   ],
   "source": [
    "plt.figure(1, figsize=(7,5))\n",
    "\n",
    "plt.title(\"Sex, default = 0|1 \")\n",
    "plt.title(\"man = 1, women = 2\")\n",
    "plt.hist(data.SEX[data.default == 0], label = \"Default = 0\", bins = 12)\n",
    "plt.hist(data.SEX[data.default == 1], label = \"Default = 1\", bins = 12)\n",
    "plt.ylabel('Amount');\n",
    "plt.legend()"
   ]
  },
  {
   "cell_type": "markdown",
   "metadata": {},
   "source": [
    "Как видно по графику, женщины в сумме берут больше кредитов и их большее количество не возвращает. Но в процентном соотношении не так все очевидно, необходимо проводить дальнейший анализ."
   ]
  },
  {
   "cell_type": "code",
   "execution_count": 13,
   "metadata": {},
   "outputs": [
    {
     "name": "stdout",
     "output_type": "stream",
     "text": [
      "MEN conf. inf. for default = 0 : [0.3796, 0.3921]\n",
      "MEN conf. inf. for default = 1 : [0.4210, 0.4449]\n"
     ]
    }
   ],
   "source": [
    "# построение доверительных интервалов.\n",
    "# разбиваем выборку на две части. Кто отдал кредит и кто не отдал.\n",
    "sex_0 = data.SEX.loc[data.default == 0].values\n",
    "sex_1 = data.SEX.loc[data.default == 1].values\n",
    "\n",
    "# строим доверительные интервалы для доли мужчин в этих двух выборках:\n",
    "\n",
    "conf_int_0 = proportion_confint(np.where(sex_0 == 1)[0].shape[0], sex_0.shape[0])\n",
    "conf_int_1 = proportion_confint(np.where(sex_1 == 1)[0].shape[0], sex_1.shape[0])\n",
    "\n",
    "print(\"MEN conf. inf. for default = 0 : [%.4f, %.4f]\" % conf_int_0)\n",
    "print(\"MEN conf. inf. for default = 1 : [%.4f, %.4f]\" % conf_int_1)"
   ]
  },
  {
   "cell_type": "markdown",
   "metadata": {},
   "source": [
    "Как видно с границ доверительных интервалов, они не пересекаються. Соответственно, и гендерная пропорция в выборках разная."
   ]
  },
  {
   "cell_type": "code",
   "execution_count": 14,
   "metadata": {},
   "outputs": [
    {
     "name": "stdout",
     "output_type": "stream",
     "text": [
      "Conf. int. of difference: [-0.060548, -0.033635]\n"
     ]
    }
   ],
   "source": [
    "#  Z-критерий для разности долей (независимые выборки)\n",
    "def proportions_diff_confint_ind(sample1, sample2, alpha = 0.05):    \n",
    "    z = stats.norm.ppf(1 - alpha / 2.)\n",
    "    \n",
    "    p1 = float(sum(sample1)) / len(sample1)\n",
    "    p2 = float(sum(sample2)) / len(sample2)\n",
    "    \n",
    "    left_boundary = (p1 - p2) - z * np.sqrt(p1 * (1 - p1)/ len(sample1) + p2 * (1 - p2)/ len(sample2))\n",
    "    right_boundary = (p1 - p2) + z * np.sqrt(p1 * (1 - p1)/ len(sample1) + p2 * (1 - p2)/ len(sample2))\n",
    "    \n",
    "    return (left_boundary, right_boundary)\n",
    "\n",
    "print (\"Conf. int. of difference: [%f, %f]\" % proportions_diff_confint_ind(np.abs(sex_0-2), np.abs(sex_1-2)))"
   ]
  },
  {
   "cell_type": "markdown",
   "metadata": {},
   "source": [
    "Как видим, доверительный интервал для разности не включает в себя ноль. То есть, они статистически отличаются"
   ]
  },
  {
   "cell_type": "markdown",
   "metadata": {},
   "source": [
    "## Z-критерий для разности долей (независимые выборки)"
   ]
  },
  {
   "cell_type": "markdown",
   "metadata": {},
   "source": [
    "Н0: гендерный состав выборок не отличается\n",
    "\n",
    "Н1: гендерный состав выборок отличается"
   ]
  },
  {
   "cell_type": "code",
   "execution_count": 15,
   "metadata": {},
   "outputs": [
    {
     "name": "stdout",
     "output_type": "stream",
     "text": [
      "p-value: 0.000000000004473\n"
     ]
    }
   ],
   "source": [
    "def proportions_diff_z_stat_ind(sample1, sample2):\n",
    "    n1 = len(sample1)\n",
    "    n2 = len(sample2)\n",
    "    \n",
    "    p1 = float(sum(sample1)) / n1\n",
    "    p2 = float(sum(sample2)) / n2 \n",
    "    P = float(p1*n1 + p2*n2) / (n1 + n2)\n",
    "    \n",
    "    return (p1 - p2) / np.sqrt(P * (1 - P) * (1. / n1 + 1. / n2))\n",
    "\n",
    "def proportions_diff_z_test(z_stat, alternative = 'two-sided'):\n",
    "    if alternative not in ('two-sided', 'less', 'greater'):\n",
    "        raise ValueError(\"alternative not recognized\\n\"\n",
    "                         \"should be 'two-sided', 'less' or 'greater'\")\n",
    "    \n",
    "    if alternative == 'two-sided':\n",
    "        return 2 * (1 - stats.norm.cdf(np.abs(z_stat)))\n",
    "    \n",
    "    if alternative == 'less':\n",
    "        return stats.norm.cdf(z_stat)\n",
    "\n",
    "    if alternative == 'greater':\n",
    "        return 1 - stats.norm.cdf(z_stat)\n",
    "\n",
    "print(\"p-value: %.15f\" % proportions_diff_z_test(proportions_diff_z_stat_ind(np.abs(sex_0-2), np.abs(sex_1 - 2))) )"
   ]
  },
  {
   "cell_type": "markdown",
   "metadata": {},
   "source": [
    "p-value: 0.000000000004473, соответственно и нулевая гипотеза о равности долей мужского и женского пола в двух выборках отклоняется с уровнем значимости 0.05"
   ]
  },
  {
   "cell_type": "markdown",
   "metadata": {},
   "source": [
    "## 3. Образование (EDUCATION): "
   ]
  },
  {
   "cell_type": "markdown",
   "metadata": {},
   "source": [
    "образование (0 = доктор, 1 = магистр; 2 = бакалавр; 3 = выпускник школы; 4 = начальное образование; 5= прочее; 6 = нет данных"
   ]
  },
  {
   "cell_type": "code",
   "execution_count": 16,
   "metadata": {},
   "outputs": [
    {
     "data": {
      "text/plain": [
       "<matplotlib.legend.Legend at 0x20811fd0>"
      ]
     },
     "execution_count": 16,
     "metadata": {},
     "output_type": "execute_result"
    },
    {
     "data": {
      "image/png": "[encoded data removed]",
      "text/plain": [
       "<Figure size 504x360 with 1 Axes>"
      ]
     },
     "metadata": {
      "needs_background": "light"
     },
     "output_type": "display_data"
    }
   ],
   "source": [
    "plt.figure(1, figsize=(7,5))\n",
    "\n",
    "plt.title(\"Hist of education and default\")\n",
    "plt.hist(data.EDUCATION[data.default == 0], label = \"Default = 0\")\n",
    "plt.hist(data.EDUCATION[data.default == 1], label = \"Default = 1\")\n",
    "plt.ylabel('Amount');\n",
    "plt.legend()"
   ]
  },
  {
   "cell_type": "markdown",
   "metadata": {},
   "source": [
    "Как видно с гистограммы, большую часть кредитов берут люди с образованием уровня: бакалавр, магистр и выпускник школы. Остальные имеют очень низкую долю."
   ]
  },
  {
   "cell_type": "markdown",
   "metadata": {},
   "source": [
    "Сравним это распределение с равномерным, сделаем таблицу сопряженности для реальных и ожидаемых показателей."
   ]
  },
  {
   "cell_type": "markdown",
   "metadata": {},
   "source": [
    "### Проверим гипотезу о том, является ли распределение EDUCATION равномерным. Воспользуемся тестом ХИ-квадрат.\n",
    "\n",
    "H0: у выборки равномерное распределение\n",
    "\n",
    "Н1: у выборки не равномерное распределение"
   ]
  },
  {
   "cell_type": "code",
   "execution_count": 30,
   "metadata": {},
   "outputs": [
    {
     "name": "stdout",
     "output_type": "stream",
     "text": [
      "Education level 0: 14 / 0 | 14\n",
      "Education level 1: 8549 / 2036 | 10585\n",
      "Education level 2: 10700 / 3330 | 14030\n",
      "Education level 3: 3680 / 1237 | 4917\n",
      "Education level 4: 116 / 7 | 123\n",
      "Education level 5: 262 / 18 | 280\n",
      "Education level 6: 43 / 8 | 51\n"
     ]
    }
   ],
   "source": [
    "edu_num_0 = np.array([edu_0[edu_0 == ed_val].shape[0] for ed_val in range(7)] )\n",
    "edu_num_1 = np.array([edu_1[edu_1 == ed_val].shape[0] for ed_val in range(7)] )\n",
    "edu_num = edu_num_0 + edu_num_1\n",
    "\n",
    "for i in range(7):\n",
    "    print(\"Education level %d: %d / %d | %d\" % (i, edu_num_0[i], edu_num_1[i], edu_num[i]))\n"
   ]
  },
  {
   "cell_type": "code",
   "execution_count": 43,
   "metadata": {},
   "outputs": [
    {
     "name": "stdout",
     "output_type": "stream",
     "text": [
      "Education level 0: 12 / 14 | 1 \n",
      "Education level 1: 9103 / 8549 | -554 \n",
      "Education level 2: 12065 / 10700 | -1365 \n",
      "Education level 3: 4228 / 3680 | -548 \n",
      "Education level 4: 105 / 116 | 10 \n",
      "Education level 5: 240 / 262 | 21 \n",
      "Education level 6: 43 / 43 | 0 \n"
     ]
    }
   ],
   "source": [
    "exp_freq = np.array([0.86 * edu_num[i] for i in range(7)])\n",
    "\n",
    "for i in range(7):\n",
    "    print (\"Education level %d: %d / %d | %d \" % (i, exp_freq[i], edu_num_0[i], edu_num_0[i] - exp_freq[i]))"
   ]
  },
  {
   "cell_type": "markdown",
   "metadata": {},
   "source": [
    "Воспользуемся тестом Хи-квадрат, для принятия или отвержения нулевой гипотезы"
   ]
  },
  {
   "cell_type": "code",
   "execution_count": 44,
   "metadata": {},
   "outputs": [
    {
     "data": {
      "text/plain": [
       "Power_divergenceResult(statistic=262.69838119247925, pvalue=1.0344900806883359e-54)"
      ]
     },
     "execution_count": 44,
     "metadata": {},
     "output_type": "execute_result"
    }
   ],
   "source": [
    "stats.chisquare(edu_num_0, exp_freq, ddof = 1)"
   ]
  },
  {
   "cell_type": "markdown",
   "metadata": {},
   "source": [
    "pvalue=1.0344900806883359e-54, соответственно отвергается нулевая гипотеза о том, что величина имеет равномерное распределение с уровнем значимости p = 0.05. Можно сделать вывод, что уровень образования влияет на то, будет возвращен кредит или не будет.\n",
    "\n",
    "### Если клиент выпускник школы или бакалавр, то кредит с большей вероятностью не будет возвращен.\n",
    "\n",
    "### Лучшие шансы возврата у людей: доктор, начальное образование или \"прочее\"."
   ]
  },
  {
   "cell_type": "markdown",
   "metadata": {},
   "source": [
    "## 4. Семейное положение (MARRIAGE):"
   ]
  },
  {
   "cell_type": "markdown",
   "metadata": {},
   "source": [
    "MARRIAGE: (0 = отказываюсь отвечать; 1 = замужем/женат; 2 = холост; 3 = нет данных)."
   ]
  },
  {
   "cell_type": "code",
   "execution_count": 46,
   "metadata": {},
   "outputs": [
    {
     "data": {
      "text/plain": [
       "<matplotlib.legend.Legend at 0x21ba7ba8>"
      ]
     },
     "execution_count": 46,
     "metadata": {},
     "output_type": "execute_result"
    },
    {
     "data": {
      "image/png": "[encoded data removed]",
      "text/plain": [
       "<Figure size 504x360 with 1 Axes>"
      ]
     },
     "metadata": {
      "needs_background": "light"
     },
     "output_type": "display_data"
    }
   ],
   "source": [
    "plt.figure(1, figsize=(7,5))\n",
    "\n",
    "plt.title(\"Hist of marriage and default\")\n",
    "plt.hist(data.MARRIAGE[data.default == 0], label = \"Default = 0\")\n",
    "plt.hist(data.MARRIAGE[data.default == 1], label = \"Default = 1\")\n",
    "plt.ylabel('Amount');\n",
    "plt.legend()"
   ]
  },
  {
   "cell_type": "markdown",
   "metadata": {},
   "source": [
    " Проверьте, как связан семейный статус с индикатором дефолта: нужно предложить меру, по которой можно измерить возможную связь этих переменных и посчитать ее значение.\n",
    " \n",
    " Как видим по графику, доли холостых и замужних людей примерно на одном и том же уровне, хотя холостых немного больше. \n",
    " "
   ]
  },
  {
   "cell_type": "code",
   "execution_count": 50,
   "metadata": {},
   "outputs": [],
   "source": [
    "# разделим выборку на две. Те, кто отдаст кредит и те, кто не отдаст\n",
    "\n",
    "married = data.MARRIAGE\n",
    "married_0 = data.MARRIAGE[data.default == 0]\n",
    "married_1 = data.MARRIAGE[data.default == 1]"
   ]
  },
  {
   "cell_type": "code",
   "execution_count": 51,
   "metadata": {},
   "outputs": [
    {
     "data": {
      "text/plain": [
       "2    15964\n",
       "1    13659\n",
       "3      323\n",
       "0       54\n",
       "Name: MARRIAGE, dtype: int64"
      ]
     },
     "execution_count": 51,
     "metadata": {},
     "output_type": "execute_result"
    }
   ],
   "source": [
    "# посчитаем количество елементов каждого класса\n",
    "married.value_counts()"
   ]
  },
  {
   "cell_type": "code",
   "execution_count": 60,
   "metadata": {},
   "outputs": [
    {
     "data": {
      "text/plain": [
       "array([[4.9000e+01, 5.0000e+00],\n",
       "       [1.0453e+04, 3.2060e+03],\n",
       "       [1.2623e+04, 3.3410e+03],\n",
       "       [2.3900e+02, 8.4000e+01]])"
      ]
     },
     "execution_count": 60,
     "metadata": {},
     "output_type": "execute_result"
    }
   ],
   "source": [
    "# Теперь сделаем таблицу сопряженности, что бы сравнить выборки с default = 0 и default = 1\n",
    "\n",
    "tabl = np.empty((len(married.value_counts()), 2))\n",
    "for i in range(len(married.value_counts())):\n",
    "    tabl[i, 0] = len(married_0[married_0 == i ])\n",
    "    tabl[i, 1] = len(married_1[married_1 == i])\n",
    "tabl"
   ]
  },
  {
   "cell_type": "markdown",
   "metadata": {},
   "source": [
    "Воспользуемся примером из лекции, а именно - коэффициент V Крамера. С его помощью сможем оценить, связаны ли эти выборки между собой."
   ]
  },
  {
   "cell_type": "code",
   "execution_count": 63,
   "metadata": {},
   "outputs": [],
   "source": [
    "def cramers_stat(confusion_matrix):\n",
    "    chi2 = stats.chi2_contingency(confusion_matrix)[0]\n",
    "    n = confusion_matrix.sum()\n",
    "    return np.sqrt(chi2 / (n * min(confusion_matrix.shape) - 1))"
   ]
  },
  {
   "cell_type": "code",
   "execution_count": 64,
   "metadata": {},
   "outputs": [
    {
     "data": {
      "text/plain": [
       "0.024379974780376065"
      ]
     },
     "execution_count": 64,
     "metadata": {},
     "output_type": "execute_result"
    }
   ],
   "source": [
    "cramers_stat(tabl)"
   ]
  },
  {
   "cell_type": "markdown",
   "metadata": {},
   "source": [
    "Как видим, значение коэффициента составляет 0.024379974780376065. Это меньше уровня значимости 0.05 , соответственно можно утверждать, что взаимосвязь между выборками отсутствует. То есть, нет разницы, выдавать кредит замужнему или холостому человеку. "
   ]
  },
  {
   "cell_type": "markdown",
   "metadata": {},
   "source": [
    "## 5. Возраст (AGE):"
   ]
  },
  {
   "cell_type": "code",
   "execution_count": 65,
   "metadata": {},
   "outputs": [
    {
     "data": {
      "text/plain": [
       "<matplotlib.legend.Legend at 0x1f8d9e80>"
      ]
     },
     "execution_count": 65,
     "metadata": {},
     "output_type": "execute_result"
    },
    {
     "data": {
      "image/png": "[encoded data removed]",
      "text/plain": [
       "<Figure size 504x360 with 1 Axes>"
      ]
     },
     "metadata": {
      "needs_background": "light"
     },
     "output_type": "display_data"
    }
   ],
   "source": [
    "plt.figure(1, figsize=(7,5))\n",
    "\n",
    "plt.title(\"Hist of AGE and default\")\n",
    "plt.hist(data.AGE[data.default == 0], label = \"Default = 0\")\n",
    "plt.hist(data.AGE[data.default == 1], label = \"Default = 1\")\n",
    "plt.ylabel('Amount');\n",
    "plt.legend()"
   ]
  },
  {
   "cell_type": "markdown",
   "metadata": {},
   "source": [
    "Как видим, наибольшую долю кредитов имеют люди в возрасте от 25 до 35 лет. Это вполне объяснимо, ведь на этом этапе люди проходят процесс создания семьи и еще не так много зарабатывают. "
   ]
  },
  {
   "cell_type": "markdown",
   "metadata": {},
   "source": [
    "### Проверим гипотезу a) о равенстве медианных значений возрастов людей\n",
    "\n",
    "Н0: медианы равны\n",
    "\n",
    "Н1: медианы отличаются "
   ]
  },
  {
   "cell_type": "code",
   "execution_count": 66,
   "metadata": {},
   "outputs": [],
   "source": [
    "# разобьем выборку на две части\n",
    "age = data.AGE\n",
    "age_0 = data.AGE[data.default == 0]\n",
    "age_1 = data.AGE[data.default == 1]"
   ]
  },
  {
   "cell_type": "markdown",
   "metadata": {},
   "source": [
    "Так же, как и в задании №1, воспользуемся бутстрепом. "
   ]
  },
  {
   "cell_type": "code",
   "execution_count": 68,
   "metadata": {},
   "outputs": [
    {
     "name": "stdout",
     "output_type": "stream",
     "text": [
      "Interval of median of AGE, default = 0: [34.000000, 34.000000]\n",
      "Interval of median of AGE, default = 1: [34.000000, 35.000000]\n"
     ]
    }
   ],
   "source": [
    "np.random.seed(0)\n",
    "\n",
    "age_0_med = map(np.median, get_bootstrap(age_0.values, 100))\n",
    "age_1_med = map(np.median, get_bootstrap(age_1.values, 100))\n",
    "\n",
    "bnd_0 = stat_intervals(age_0_med, 0.05)\n",
    "bnd_1 = stat_intervals(age_1_med, 0.05)\n",
    "\n",
    "print(\"Interval of median of AGE, default = 0: [%f, %f]\" % (bnd_0[0], bnd_0[1]))\n",
    "print(\"Interval of median of AGE, default = 1: [%f, %f]\" % (bnd_1[0], bnd_1[1]))"
   ]
  },
  {
   "cell_type": "markdown",
   "metadata": {},
   "source": [
    "Как видно из границ доверительных интервалов, они пересекаются в точке 34.0"
   ]
  },
  {
   "cell_type": "markdown",
   "metadata": {},
   "source": [
    "Аналогично заданию №1, построим доверительный интервал для разности медиан."
   ]
  },
  {
   "cell_type": "code",
   "execution_count": 69,
   "metadata": {},
   "outputs": [],
   "source": [
    "delta_median = map( lambda x: x[1] - x[0], zip(age_0_med, age_1_med))"
   ]
  },
  {
   "cell_type": "code",
   "execution_count": 70,
   "metadata": {},
   "outputs": [
    {
     "name": "stdout",
     "output_type": "stream",
     "text": [
      "Interval for delta of medians: [0.000000, 1.000000]\n"
     ]
    }
   ],
   "source": [
    "stat_int = stat_intervals(delta_median, 0.05)\n",
    "print (\"Interval for delta of medians: [%f, %f]\" %(stat_int[0], stat_int[1]))"
   ]
  },
  {
   "cell_type": "markdown",
   "metadata": {},
   "source": [
    "Как было сказано в лекциях, если доверительный интервал для разницы содержит ноль, то различия не являются статистически значимыми на уровне значимости 0.05. Соответственно, медианы выборок не отличаются."
   ]
  },
  {
   "cell_type": "markdown",
   "metadata": {},
   "source": [
    "### Проверка гипотезы b) о равенстве распределений с помощью одного из подходящих непараметрических критериев проверки равенства средних."
   ]
  },
  {
   "cell_type": "markdown",
   "metadata": {},
   "source": [
    "Воспользуемся перестановочным критерием для независимых выборок, аналогично заданию №1. \n",
    "\n",
    "Н0: распределения выборок равны\n",
    "\n",
    "Н1: распределения не равны. "
   ]
  },
  {
   "cell_type": "code",
   "execution_count": 72,
   "metadata": {},
   "outputs": [
    {
     "data": {
      "text/plain": [
       "0.014"
      ]
     },
     "execution_count": 72,
     "metadata": {},
     "output_type": "execute_result"
    }
   ],
   "source": [
    "permutation_test(age_0, age_1, max_permutations = 1000 )"
   ]
  },
  {
   "cell_type": "markdown",
   "metadata": {},
   "source": [
    "V-value = 0.014, соответственно нулевая гипотеза Н0 отвергается на уровне значимости 0.05. Распределения не равны. "
   ]
  },
  {
   "cell_type": "markdown",
   "metadata": {},
   "source": [
    "Результаты практически значимы, потому что молодые люди в возрасте до 25 лет наиболее склонны не отдавать кредит. Хотя выдают им не самое большое количество. Соответственно, фактор возраста необходимо учитывать при выдаче того или иного кредита."
   ]
  },
  {
   "cell_type": "code",
   "execution_count": null,
   "metadata": {},
   "outputs": [],
   "source": []
  },
  {
   "cell_type": "code",
   "execution_count": null,
   "metadata": {},
   "outputs": [],
   "source": []
  }
 ],
 "metadata": {
  "kernelspec": {
   "display_name": "Python 2",
   "language": "python",
   "name": "python2"
  },
  "language_info": {
   "codemirror_mode": {
    "name": "ipython",
    "version": 2
   },
   "file_extension": ".py",
   "mimetype": "text/x-python",
   "name": "python",
   "nbconvert_exporter": "python",
   "pygments_lexer": "ipython2",
   "version": "2.7.16"
  }
 },
 "nbformat": 4,
 "nbformat_minor": 2
}
