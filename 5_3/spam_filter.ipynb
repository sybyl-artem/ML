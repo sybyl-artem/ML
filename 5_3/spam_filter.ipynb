{
 "cells": [
  {
   "cell_type": "code",
   "execution_count": 1,
   "metadata": {},
   "outputs": [],
   "source": [
    "from __future__ import division, print_function\n",
    "\n",
    "import numpy as np\n",
    "\n",
    "from sklearn.feature_extraction.text import CountVectorizer, TfidfVectorizer\n",
    "from sklearn.linear_model import LogisticRegression \n",
    "from sklearn.naive_bayes import MultinomialNB\n",
    "from sklearn.model_selection import cross_val_score\n",
    "from sklearn.pipeline import Pipeline"
   ]
  },
  {
   "cell_type": "code",
   "execution_count": 4,
   "metadata": {},
   "outputs": [],
   "source": [
    "#data\n",
    "with open(\"SMSSpamCollection.txt\", \"r\") as d:\n",
    "    sms = d.read().splitlines()"
   ]
  },
  {
   "cell_type": "code",
   "execution_count": 5,
   "metadata": {},
   "outputs": [],
   "source": [
    "sms_label, sms_text = zip(*[line.split(\"\\t\") for line in sms])\n",
    "\n",
    "sms_label_bi = np.array([0 if t == \"ham\" else 1 for t in sms_label])"
   ]
  },
  {
   "cell_type": "code",
   "execution_count": 7,
   "metadata": {},
   "outputs": [
    {
     "data": {
      "text/plain": [
       "(5574, 8713)"
      ]
     },
     "execution_count": 7,
     "metadata": {},
     "output_type": "execute_result"
    }
   ],
   "source": [
    "count_vect = CountVectorizer()\n",
    "X_counts = count_vect.fit_transform(sms_text)\n",
    "X_counts.shape"
   ]
  },
  {
   "cell_type": "code",
   "execution_count": 8,
   "metadata": {},
   "outputs": [],
   "source": [
    "pipeline = Pipeline([(\"count_vect\", CountVectorizer()), (\"log_reg\", LogisticRegression())])"
   ]
  },
  {
   "cell_type": "code",
   "execution_count": 12,
   "metadata": {},
   "outputs": [
    {
     "data": {
      "text/plain": [
       "0.9333485268579415"
      ]
     },
     "execution_count": 12,
     "metadata": {},
     "output_type": "execute_result"
    }
   ],
   "source": [
    "score = cross_val_score(pipeline, sms_text, sms_label_bi, scoring = \"f1\", cv = 10).mean()\n",
    "score"
   ]
  },
  {
   "cell_type": "code",
   "execution_count": 19,
   "metadata": {},
   "outputs": [],
   "source": [
    "with open(\"1.txt\", \"w\") as f:\n",
    "    a1 = str(round(score, 1))\n",
    "    f.write(a1)"
   ]
  },
  {
   "cell_type": "code",
   "execution_count": 14,
   "metadata": {},
   "outputs": [],
   "source": [
    "#2\n",
    "sms_test = [\"FreeMsg: Txt: CALL to No: 86888 & claim your reward of 3 hours talk time to use from your phone now! Subscribe6GB\",\n",
    "           \"FreeMsg: Txt: claim your reward of 3 hours talk time\",\n",
    "           \"Have you visited the last lecture on physics?\",\n",
    "           \"Have you visited the last lecture on physics? Just buy this book and you will have all materials! Only 99$\",\n",
    "           \"Only 99$\"]"
   ]
  },
  {
   "cell_type": "code",
   "execution_count": 15,
   "metadata": {},
   "outputs": [
    {
     "data": {
      "text/plain": [
       "Pipeline(memory=None,\n",
       "     steps=[('count_vect', CountVectorizer(analyzer=u'word', binary=False, decode_error=u'strict',\n",
       "        dtype=<type 'numpy.int64'>, encoding=u'utf-8', input=u'content',\n",
       "        lowercase=True, max_df=1.0, max_features=None, min_df=1,\n",
       "        ngram_range=(1, 1), preprocessor=None, stop_words=None,\n",
       "    ...penalty='l2', random_state=None, solver='warn',\n",
       "          tol=0.0001, verbose=0, warm_start=False))])"
      ]
     },
     "execution_count": 15,
     "metadata": {},
     "output_type": "execute_result"
    }
   ],
   "source": [
    "pipeline.fit(sms_text, sms_label_bi)"
   ]
  },
  {
   "cell_type": "code",
   "execution_count": 16,
   "metadata": {},
   "outputs": [
    {
     "data": {
      "text/plain": [
       "array([1, 1, 0, 0, 0])"
      ]
     },
     "execution_count": 16,
     "metadata": {},
     "output_type": "execute_result"
    }
   ],
   "source": [
    "sms_test_pr = pipeline.predict(sms_test)\n",
    "sms_test_pr"
   ]
  },
  {
   "cell_type": "code",
   "execution_count": 20,
   "metadata": {},
   "outputs": [],
   "source": [
    "with open(\"2.txt\", \"w\") as f:\n",
    "    a2 = \" \".join(map(str, sms_test_pr))\n",
    "    f.write(a2)"
   ]
  },
  {
   "cell_type": "code",
   "execution_count": 21,
   "metadata": {},
   "outputs": [],
   "source": [
    "#3\n",
    "ngram_range = [(2,2), (3,3), (1,3)]\n",
    "\n",
    "scores = []\n",
    "for ngram in ngram_range:\n",
    "    pipeline = Pipeline([(\"count_vect\", CountVectorizer(ngram_range = ngram)), (\"log_reg\", LogisticRegression())])\n",
    "    score = cross_val_score(pipeline, sms_text, sms_label_bi, scoring = \"f1\", cv = 10).mean()\n",
    "    scores.append(score)"
   ]
  },
  {
   "cell_type": "code",
   "execution_count": 22,
   "metadata": {},
   "outputs": [],
   "source": [
    "with open(\"3.txt\", \"w\") as f:\n",
    "    a3 = \" \".join(map(str, [\"%.2f\" % sc for sc in scores]))\n",
    "    f.write(a3)"
   ]
  },
  {
   "cell_type": "code",
   "execution_count": 23,
   "metadata": {},
   "outputs": [],
   "source": [
    "#4\n",
    "ngram_range = [(2,2), (3,3), (1,3)]\n",
    "\n",
    "scores = []\n",
    "for ngram in ngram_range:\n",
    "    pipeline = Pipeline([(\"count_vect\", CountVectorizer(ngram_range = ngram)), (\"mn_nb\", MultinomialNB())])\n",
    "    score = cross_val_score(pipeline, sms_text, sms_label_bi, scoring = \"f1\", cv = 10).mean()\n",
    "    scores.append(score)"
   ]
  },
  {
   "cell_type": "code",
   "execution_count": 28,
   "metadata": {},
   "outputs": [],
   "source": [
    "scores = []\n",
    "for ngram in ngram_range:\n",
    "    X_counts = CountVectorizer(ngram_range = ngram).fit_transform(sms_text)\n",
    "    mn_nb = MultinomialNB()\n",
    "    score = cross_val_score(mn_nb, X_counts, sms_label_bi, scoring = \"f1\", cv = 10).mean()\n",
    "    scores.append(score)\n",
    "\n",
    "with open(\"4.txt\", \"w\") as f:\n",
    "    a4 = \" \".join(map(str, [\"%.2f\" % sc for sc in scores]))\n",
    "    f.write(a4)"
   ]
  },
  {
   "cell_type": "code",
   "execution_count": null,
   "metadata": {},
   "outputs": [],
   "source": []
  },
  {
   "cell_type": "code",
   "execution_count": 26,
   "metadata": {},
   "outputs": [
    {
     "data": {
      "text/plain": [
       "0.8785100455343396"
      ]
     },
     "execution_count": 26,
     "metadata": {},
     "output_type": "execute_result"
    }
   ],
   "source": [
    "pipeline = Pipeline([(\"tf_idf\", TfidfVectorizer()), (\"log_reg\", LogisticRegression())])\n",
    "score = cross_val_score(pipeline, sms_text, sms_label_bi, scoring = \"f1\", cv = 10).mean()\n",
    "score"
   ]
  },
  {
   "cell_type": "code",
   "execution_count": 27,
   "metadata": {},
   "outputs": [],
   "source": [
    "with open(\"5.txt\", \"w\") as f:\n",
    "    a5 = str(-1)\n",
    "    f.write(a5)"
   ]
  },
  {
   "cell_type": "code",
   "execution_count": null,
   "metadata": {},
   "outputs": [],
   "source": []
  },
  {
   "cell_type": "code",
   "execution_count": null,
   "metadata": {},
   "outputs": [],
   "source": []
  }
 ],
 "metadata": {
  "kernelspec": {
   "display_name": "Python 2",
   "language": "python",
   "name": "python2"
  },
  "language_info": {
   "codemirror_mode": {
    "name": "ipython",
    "version": 2
   },
   "file_extension": ".py",
   "mimetype": "text/x-python",
   "name": "python",
   "nbconvert_exporter": "python",
   "pygments_lexer": "ipython2",
   "version": "2.7.16"
  }
 },
 "nbformat": 4,
 "nbformat_minor": 2
}
